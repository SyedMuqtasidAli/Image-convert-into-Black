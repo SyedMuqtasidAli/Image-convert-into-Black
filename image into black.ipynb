{
 "cells": [
  {
   "cell_type": "markdown",
   "id": "da1e3560",
   "metadata": {},
   "source": [
    "First Import OpenCV Library if you get error then intsall first in your navigator environment.\n"
   ]
  },
  {
   "cell_type": "code",
   "execution_count": 1,
   "id": "268f52c2",
   "metadata": {},
   "outputs": [],
   "source": [
    "import cv2"
   ]
  },
  {
   "cell_type": "markdown",
   "id": "8413d0a4",
   "metadata": {},
   "source": [
    "Load Your image through given path make sure you put exact path of your image.This is Your that image path which image you want to convert black"
   ]
  },
  {
   "cell_type": "code",
   "execution_count": 8,
   "id": "5510ad33",
   "metadata": {},
   "outputs": [],
   "source": [
    "image1 = cv2.imread('E:\\snap.jpg')"
   ]
  },
  {
   "cell_type": "code",
   "execution_count": 9,
   "id": "40b24666",
   "metadata": {},
   "outputs": [],
   "source": [
    "window_name= 'Orignal image'"
   ]
  },
  {
   "cell_type": "code",
   "execution_count": 10,
   "id": "ad513cbe",
   "metadata": {},
   "outputs": [],
   "source": [
    "cv2.imshow(window_name,image1)"
   ]
  },
  {
   "cell_type": "code",
   "execution_count": 11,
   "id": "8d227747",
   "metadata": {},
   "outputs": [],
   "source": [
    "grey_img = cv2.cvtColor(image1,cv2.COLOR_BGR2GRAY)"
   ]
  },
  {
   "cell_type": "code",
   "execution_count": 12,
   "id": "539606d2",
   "metadata": {},
   "outputs": [],
   "source": [
    "invert = cv2.bitwise_not(grey_img)"
   ]
  },
  {
   "cell_type": "code",
   "execution_count": 13,
   "id": "2dc28544",
   "metadata": {},
   "outputs": [],
   "source": [
    "blur = cv2.GaussianBlur(invert,(21,21),0)\n",
    "invertedblur = cv2.bitwise_not(blur)\n",
    "sketch = cv2.divide(grey_img,invertedblur,scale=256.0)"
   ]
  },
  {
   "cell_type": "markdown",
   "id": "472a7d5a",
   "metadata": {},
   "source": [
    "Now You need to create your black image and you need to given a path for it"
   ]
  },
  {
   "cell_type": "code",
   "execution_count": 14,
   "id": "84b64031",
   "metadata": {},
   "outputs": [
    {
     "data": {
      "text/plain": [
       "True"
      ]
     },
     "execution_count": 14,
     "metadata": {},
     "output_type": "execute_result"
    }
   ],
   "source": [
    "cv2.imwrite('E:\\sketc.png',sketch)"
   ]
  },
  {
   "cell_type": "markdown",
   "id": "5cbdf32e",
   "metadata": {},
   "source": [
    "Just Your Given path you can see your image is convert into black."
   ]
  },
  {
   "cell_type": "code",
   "execution_count": null,
   "id": "71d5126e",
   "metadata": {},
   "outputs": [],
   "source": []
  }
 ],
 "metadata": {
  "kernelspec": {
   "display_name": "Python 3 (ipykernel)",
   "language": "python",
   "name": "python3"
  },
  "language_info": {
   "codemirror_mode": {
    "name": "ipython",
    "version": 3
   },
   "file_extension": ".py",
   "mimetype": "text/x-python",
   "name": "python",
   "nbconvert_exporter": "python",
   "pygments_lexer": "ipython3",
   "version": "3.8.16"
  }
 },
 "nbformat": 4,
 "nbformat_minor": 5
}
